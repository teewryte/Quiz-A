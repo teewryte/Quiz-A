{
 "cells": [
  {
   "cell_type": "markdown",
   "id": "82a5f9e7",
   "metadata": {},
   "source": [
    "<hr>\n",
    "<font color='purple'>\n",
    "    <font size=\"+3\"><strong> \n",
    "Name: Theophilus Uwoghiren\n",
    "</font>\n",
    "\n",
    "<br>\n",
    "<hr>\n",
    "\n",
    "<font color='green'>\n",
    "    <font size=\"+3\"><strong> \n",
    "Hamoye ID: 14843ce775c1f000\n",
    " </font>\n",
    "\n",
    "<br>\n",
    "<hr>\n",
    "\n",
    "<font color='black'>\n",
    "    <font size=\"+3\">\n",
    "Track: Data Science \n",
    "</font>         \n",
    "\n",
    "<br>\n",
    "<hr>\n",
    "    \n",
    "<font size=\"+3\">\n",
    "Stage A Assessment\n",
    "</font>\n",
    "<hr>"
   ]
  },
  {
   "cell_type": "markdown",
   "id": "f6582f8e",
   "metadata": {},
   "source": [
    "<br>\n",
    "<font size=\"+3\"><strong> \n",
    "Data Preprocessing\n",
    "</strong>\n",
    "</font>"
   ]
  },
  {
   "cell_type": "markdown",
   "id": "7fa66c4f",
   "metadata": {},
   "source": [
    "**Importing Libraries**"
   ]
  },
  {
   "cell_type": "code",
   "execution_count": 1,
   "id": "7f221402",
   "metadata": {},
   "outputs": [],
   "source": [
    "import numpy as np\n",
    "import pandas as pd\n",
    "import seaborn as sns\n",
    "import matplotlib.pyplot as plt"
   ]
  },
  {
   "cell_type": "markdown",
   "id": "94ed5930",
   "metadata": {},
   "source": [
    "**Reading the Dataset**"
   ]
  },
  {
   "cell_type": "code",
   "execution_count": 2,
   "id": "ecbf3be3",
   "metadata": {},
   "outputs": [
    {
     "data": {
      "text/html": [
       "<div>\n",
       "<style scoped>\n",
       "    .dataframe tbody tr th:only-of-type {\n",
       "        vertical-align: middle;\n",
       "    }\n",
       "\n",
       "    .dataframe tbody tr th {\n",
       "        vertical-align: top;\n",
       "    }\n",
       "\n",
       "    .dataframe thead th {\n",
       "        text-align: right;\n",
       "    }\n",
       "</style>\n",
       "<table border=\"1\" class=\"dataframe\">\n",
       "  <thead>\n",
       "    <tr style=\"text-align: right;\">\n",
       "      <th></th>\n",
       "      <th>Area Code</th>\n",
       "      <th>Area</th>\n",
       "      <th>Item Code</th>\n",
       "      <th>Item</th>\n",
       "      <th>Element Code</th>\n",
       "      <th>Element</th>\n",
       "      <th>Unit</th>\n",
       "      <th>Y2014</th>\n",
       "      <th>Y2015</th>\n",
       "      <th>Y2016</th>\n",
       "      <th>Y2017</th>\n",
       "      <th>Y2018</th>\n",
       "    </tr>\n",
       "  </thead>\n",
       "  <tbody>\n",
       "    <tr>\n",
       "      <th>0</th>\n",
       "      <td>4</td>\n",
       "      <td>Algeria</td>\n",
       "      <td>2501</td>\n",
       "      <td>Population</td>\n",
       "      <td>511</td>\n",
       "      <td>Total Population - Both sexes</td>\n",
       "      <td>1000 persons</td>\n",
       "      <td>38924.00</td>\n",
       "      <td>39728.00</td>\n",
       "      <td>40551.00</td>\n",
       "      <td>41389.00</td>\n",
       "      <td>42228.00</td>\n",
       "    </tr>\n",
       "    <tr>\n",
       "      <th>1</th>\n",
       "      <td>4</td>\n",
       "      <td>Algeria</td>\n",
       "      <td>2501</td>\n",
       "      <td>Population</td>\n",
       "      <td>5301</td>\n",
       "      <td>Domestic supply quantity</td>\n",
       "      <td>1000 tonnes</td>\n",
       "      <td>0.00</td>\n",
       "      <td>0.00</td>\n",
       "      <td>0.00</td>\n",
       "      <td>0.00</td>\n",
       "      <td>0.00</td>\n",
       "    </tr>\n",
       "    <tr>\n",
       "      <th>2</th>\n",
       "      <td>4</td>\n",
       "      <td>Algeria</td>\n",
       "      <td>2901</td>\n",
       "      <td>Grand Total</td>\n",
       "      <td>664</td>\n",
       "      <td>Food supply (kcal/capita/day)</td>\n",
       "      <td>kcal/capita/day</td>\n",
       "      <td>3377.00</td>\n",
       "      <td>3379.00</td>\n",
       "      <td>3372.00</td>\n",
       "      <td>3341.00</td>\n",
       "      <td>3322.00</td>\n",
       "    </tr>\n",
       "    <tr>\n",
       "      <th>3</th>\n",
       "      <td>4</td>\n",
       "      <td>Algeria</td>\n",
       "      <td>2901</td>\n",
       "      <td>Grand Total</td>\n",
       "      <td>674</td>\n",
       "      <td>Protein supply quantity (g/capita/day)</td>\n",
       "      <td>g/capita/day</td>\n",
       "      <td>94.90</td>\n",
       "      <td>94.35</td>\n",
       "      <td>94.72</td>\n",
       "      <td>92.82</td>\n",
       "      <td>91.83</td>\n",
       "    </tr>\n",
       "    <tr>\n",
       "      <th>4</th>\n",
       "      <td>4</td>\n",
       "      <td>Algeria</td>\n",
       "      <td>2901</td>\n",
       "      <td>Grand Total</td>\n",
       "      <td>684</td>\n",
       "      <td>Fat supply quantity (g/capita/day)</td>\n",
       "      <td>g/capita/day</td>\n",
       "      <td>80.06</td>\n",
       "      <td>79.36</td>\n",
       "      <td>77.40</td>\n",
       "      <td>80.19</td>\n",
       "      <td>77.28</td>\n",
       "    </tr>\n",
       "  </tbody>\n",
       "</table>\n",
       "</div>"
      ],
      "text/plain": [
       "   Area Code     Area  Item Code         Item  Element Code  \\\n",
       "0          4  Algeria       2501   Population           511   \n",
       "1          4  Algeria       2501   Population          5301   \n",
       "2          4  Algeria       2901  Grand Total           664   \n",
       "3          4  Algeria       2901  Grand Total           674   \n",
       "4          4  Algeria       2901  Grand Total           684   \n",
       "\n",
       "                                  Element             Unit     Y2014  \\\n",
       "0           Total Population - Both sexes     1000 persons  38924.00   \n",
       "1                Domestic supply quantity      1000 tonnes      0.00   \n",
       "2           Food supply (kcal/capita/day)  kcal/capita/day   3377.00   \n",
       "3  Protein supply quantity (g/capita/day)     g/capita/day     94.90   \n",
       "4      Fat supply quantity (g/capita/day)     g/capita/day     80.06   \n",
       "\n",
       "      Y2015     Y2016     Y2017     Y2018  \n",
       "0  39728.00  40551.00  41389.00  42228.00  \n",
       "1      0.00      0.00      0.00      0.00  \n",
       "2   3379.00   3372.00   3341.00   3322.00  \n",
       "3     94.35     94.72     92.82     91.83  \n",
       "4     79.36     77.40     80.19     77.28  "
      ]
     },
     "execution_count": 2,
     "metadata": {},
     "output_type": "execute_result"
    }
   ],
   "source": [
    "df = pd.read_csv('FoodBalanceSheets_E_Africa_NOFLAG.csv', encoding=\"latin-1\")\n",
    "\n",
    "df.head()"
   ]
  },
  {
   "cell_type": "markdown",
   "id": "c16c1686",
   "metadata": {},
   "source": [
    "**QUESTION 1**\n",
    "\n",
    "What is the total sum of Wine produced in 2015 and 2018 respectively?"
   ]
  },
  {
   "cell_type": "code",
   "execution_count": 3,
   "id": "80c10518",
   "metadata": {},
   "outputs": [
    {
     "data": {
      "text/plain": [
       "Area Code       False\n",
       "Area            False\n",
       "Item Code       False\n",
       "Item             True\n",
       "Element Code    False\n",
       "Element         False\n",
       "Unit            False\n",
       "Y2014           False\n",
       "Y2015           False\n",
       "Y2016           False\n",
       "Y2017           False\n",
       "Y2018           False\n",
       "dtype: bool"
      ]
     },
     "execution_count": 3,
     "metadata": {},
     "output_type": "execute_result"
    }
   ],
   "source": [
    "df.isin(['Wine']).any()"
   ]
  },
  {
   "cell_type": "code",
   "execution_count": 4,
   "id": "8c051abf",
   "metadata": {},
   "outputs": [
    {
     "data": {
      "text/html": [
       "<div>\n",
       "<style scoped>\n",
       "    .dataframe tbody tr th:only-of-type {\n",
       "        vertical-align: middle;\n",
       "    }\n",
       "\n",
       "    .dataframe tbody tr th {\n",
       "        vertical-align: top;\n",
       "    }\n",
       "\n",
       "    .dataframe thead th {\n",
       "        text-align: right;\n",
       "    }\n",
       "</style>\n",
       "<table border=\"1\" class=\"dataframe\">\n",
       "  <thead>\n",
       "    <tr style=\"text-align: right;\">\n",
       "      <th></th>\n",
       "      <th>Y2015</th>\n",
       "      <th>Y2018</th>\n",
       "    </tr>\n",
       "    <tr>\n",
       "      <th>Item</th>\n",
       "      <th></th>\n",
       "      <th></th>\n",
       "    </tr>\n",
       "  </thead>\n",
       "  <tbody>\n",
       "    <tr>\n",
       "      <th>Alcohol, Non-Food</th>\n",
       "      <td>2180.00</td>\n",
       "      <td>2293.00</td>\n",
       "    </tr>\n",
       "    <tr>\n",
       "      <th>Alcoholic Beverages</th>\n",
       "      <td>98783.72</td>\n",
       "      <td>97847.27</td>\n",
       "    </tr>\n",
       "    <tr>\n",
       "      <th>Animal Products</th>\n",
       "      <td>11811.73</td>\n",
       "      <td>11578.61</td>\n",
       "    </tr>\n",
       "    <tr>\n",
       "      <th>Animal fats</th>\n",
       "      <td>200675.72</td>\n",
       "      <td>269648.27</td>\n",
       "    </tr>\n",
       "    <tr>\n",
       "      <th>Apples and products</th>\n",
       "      <td>10559.15</td>\n",
       "      <td>9640.51</td>\n",
       "    </tr>\n",
       "    <tr>\n",
       "      <th>...</th>\n",
       "      <td>...</td>\n",
       "      <td>...</td>\n",
       "    </tr>\n",
       "    <tr>\n",
       "      <th>Vegetables, Other</th>\n",
       "      <td>158104.08</td>\n",
       "      <td>163987.21</td>\n",
       "    </tr>\n",
       "    <tr>\n",
       "      <th>Vegetal Products</th>\n",
       "      <td>107064.17</td>\n",
       "      <td>107775.39</td>\n",
       "    </tr>\n",
       "    <tr>\n",
       "      <th>Wheat and products</th>\n",
       "      <td>234710.51</td>\n",
       "      <td>242645.19</td>\n",
       "    </tr>\n",
       "    <tr>\n",
       "      <th>Wine</th>\n",
       "      <td>4251.81</td>\n",
       "      <td>4039.32</td>\n",
       "    </tr>\n",
       "    <tr>\n",
       "      <th>Yams</th>\n",
       "      <td>203151.78</td>\n",
       "      <td>221272.09</td>\n",
       "    </tr>\n",
       "  </tbody>\n",
       "</table>\n",
       "<p>119 rows × 2 columns</p>\n",
       "</div>"
      ],
      "text/plain": [
       "                         Y2015      Y2018\n",
       "Item                                     \n",
       "Alcohol, Non-Food      2180.00    2293.00\n",
       "Alcoholic Beverages   98783.72   97847.27\n",
       "Animal Products       11811.73   11578.61\n",
       "Animal fats          200675.72  269648.27\n",
       "Apples and products   10559.15    9640.51\n",
       "...                        ...        ...\n",
       "Vegetables, Other    158104.08  163987.21\n",
       "Vegetal Products     107064.17  107775.39\n",
       "Wheat and products   234710.51  242645.19\n",
       "Wine                   4251.81    4039.32\n",
       "Yams                 203151.78  221272.09\n",
       "\n",
       "[119 rows x 2 columns]"
      ]
     },
     "execution_count": 4,
     "metadata": {},
     "output_type": "execute_result"
    }
   ],
   "source": [
    "df.groupby(\"Item\")[[\"Y2015\",\"Y2018\"]].sum()"
   ]
  },
  {
   "cell_type": "markdown",
   "id": "863b7af6",
   "metadata": {},
   "source": [
    "**Answer:** The total sum of Wine produced in 2015 and 2018 respectively is **4251.81** and **4039.32**"
   ]
  },
  {
   "cell_type": "markdown",
   "id": "a4b2e3e7",
   "metadata": {},
   "source": [
    "**QUESTION 2**\n",
    "\n",
    "Given the following python code, what would the output of the code give?\n",
    "\n",
    "my_tuppy = (1,2,5,8)\n",
    "\n",
    "my_tuppy[2] = 6\n"
   ]
  },
  {
   "cell_type": "markdown",
   "id": "ada72d10",
   "metadata": {},
   "source": [
    "**Answer:** Type Error"
   ]
  },
  {
   "cell_type": "markdown",
   "id": "a8dd5528",
   "metadata": {},
   "source": [
    "**QUESTION 3**\n",
    "\n",
    "Select columns ‘Y2017’ and ‘Area’, Perform a groupby operation on ‘Area’.  Which of these Areas had the highest sum in 2017?"
   ]
  },
  {
   "cell_type": "code",
   "execution_count": 5,
   "id": "0a3bd7b0",
   "metadata": {},
   "outputs": [
    {
     "data": {
      "text/plain": [
       "Area\n",
       "Nigeria                        1499774.24\n",
       "Egypt                           852652.92\n",
       "South Africa                    509787.97\n",
       "Ethiopia                        450788.86\n",
       "Morocco                         399271.27\n",
       "Ghana                           358915.64\n",
       "United Republic of Tanzania     349763.41\n",
       "Algeria                         341729.98\n",
       "Kenya                           270916.80\n",
       "Sudan                           268054.39\n",
       "Angola                          235206.68\n",
       "Cameroon                        233022.93\n",
       "Cï¿½te d'Ivoire                 227018.00\n",
       "Uganda                          222147.25\n",
       "Malawi                          187366.09\n",
       "Mozambique                      164934.05\n",
       "Mali                            159026.42\n",
       "Mauritania                      157479.95\n",
       "Madagascar                      134576.44\n",
       "Niger                           133982.86\n",
       "Tunisia                         127343.17\n",
       "Benin                           124960.70\n",
       "Burkina Faso                    112970.72\n",
       "Guinea                          103262.08\n",
       "Zambia                          101604.27\n",
       "Senegal                          95493.82\n",
       "Zimbabwe                         76581.41\n",
       "Rwanda                           74839.08\n",
       "Chad                             72282.24\n",
       "Sierra Leone                     55981.73\n",
       "Eswatini                         55045.07\n",
       "Togo                             54872.00\n",
       "Mauritius                        47150.91\n",
       "Congo                            42005.53\n",
       "Central African Republic         30101.57\n",
       "Liberia                          29629.83\n",
       "Namibia                          29350.04\n",
       "Gabon                            28339.38\n",
       "Djibouti                         23718.96\n",
       "Gambia                           23513.80\n",
       "Botswana                         23129.08\n",
       "Lesotho                          19109.23\n",
       "Guinea-Bissau                    18997.92\n",
       "Cabo Verde                       14622.60\n",
       "Sao Tome and Principe            12806.49\n",
       "Seychelles                         442.34\n",
       "Comoros                             59.84\n",
       "Sudan (former)                       0.00\n",
       "Ethiopia PDR                         0.00\n",
       "Name: Y2018, dtype: float64"
      ]
     },
     "execution_count": 5,
     "metadata": {},
     "output_type": "execute_result"
    }
   ],
   "source": [
    "df.groupby(\"Area\")[\"Y2018\"].sum().sort_values(ascending=False)"
   ]
  },
  {
   "cell_type": "markdown",
   "id": "048e7367",
   "metadata": {},
   "source": [
    "**Answer:** Nigeria"
   ]
  },
  {
   "cell_type": "code",
   "execution_count": 6,
   "id": "007a3901",
   "metadata": {},
   "outputs": [
    {
     "data": {
      "text/plain": [
       "(60943, 12)"
      ]
     },
     "execution_count": 6,
     "metadata": {},
     "output_type": "execute_result"
    }
   ],
   "source": [
    "df.shape"
   ]
  },
  {
   "cell_type": "code",
   "execution_count": null,
   "id": "988d3fe2",
   "metadata": {},
   "outputs": [],
   "source": []
  },
  {
   "cell_type": "markdown",
   "id": "59ce813d",
   "metadata": {},
   "source": [
    "**QUESTION 4**\n",
    "\n",
    "\n",
    "What is the mean and standard deviation across the whole dataset for the year 2017 to 2 decimal places?"
   ]
  },
  {
   "cell_type": "code",
   "execution_count": 7,
   "id": "d41b78b4",
   "metadata": {},
   "outputs": [
    {
     "data": {
      "text/plain": [
       "count     59437.00\n",
       "mean        140.92\n",
       "std        1671.86\n",
       "min       -1582.00\n",
       "25%           0.00\n",
       "50%           0.10\n",
       "75%           9.00\n",
       "max      190873.00\n",
       "Name: Y2017, dtype: float64"
      ]
     },
     "execution_count": 7,
     "metadata": {},
     "output_type": "execute_result"
    }
   ],
   "source": [
    "df['Y2017'].describe().round(2)"
   ]
  },
  {
   "cell_type": "markdown",
   "id": "73bdeaeb",
   "metadata": {},
   "source": [
    "**Answer:** The mean is **140.92** while the standard deviation is **1671.86**"
   ]
  },
  {
   "cell_type": "markdown",
   "id": "4641412b",
   "metadata": {},
   "source": [
    "**QUESTION 8**\n",
    "\n",
    "What is the total number of unique countries in the dataset?"
   ]
  },
  {
   "cell_type": "code",
   "execution_count": 8,
   "id": "adabab1e",
   "metadata": {},
   "outputs": [
    {
     "data": {
      "text/plain": [
       "49"
      ]
     },
     "execution_count": 8,
     "metadata": {},
     "output_type": "execute_result"
    }
   ],
   "source": [
    "df['Area'].nunique()"
   ]
  },
  {
   "cell_type": "markdown",
   "id": "38d428b6",
   "metadata": {},
   "source": [
    "**Answer**:  The total number of unique countries in the dataset is 49"
   ]
  },
  {
   "cell_type": "markdown",
   "id": "2ed777c6",
   "metadata": {},
   "source": [
    "**QUESTION 9**\n",
    "\n",
    "\n",
    "Which year had the least correlation with ‘Element Code’? "
   ]
  },
  {
   "cell_type": "code",
   "execution_count": 9,
   "id": "ced0f074",
   "metadata": {},
   "outputs": [
    {
     "data": {
      "text/plain": [
       "Item Code      -0.024683\n",
       "Area Code      -0.000209\n",
       "Y2016           0.023444\n",
       "Y2015           0.023889\n",
       "Y2017           0.024254\n",
       "Y2018           0.024279\n",
       "Y2014           0.024457\n",
       "Element Code    1.000000\n",
       "Name: Element Code, dtype: float64"
      ]
     },
     "execution_count": 9,
     "metadata": {},
     "output_type": "execute_result"
    }
   ],
   "source": [
    "F_Correlation = df.corr()\n",
    "F_Correlation['Element Code'].sort_values(ascending=True)"
   ]
  },
  {
   "cell_type": "markdown",
   "id": "5e291f41",
   "metadata": {},
   "source": [
    "**Answer**: Year **2016** has the least correlation with ‘Element Code'"
   ]
  },
  {
   "cell_type": "markdown",
   "id": "8941a5c9",
   "metadata": {},
   "source": [
    "**QUESTION 10**\n",
    "\n",
    "What would be the output for?"
   ]
  },
  {
   "cell_type": "code",
   "execution_count": 10,
   "id": "d08259ea",
   "metadata": {},
   "outputs": [
    {
     "data": {
      "text/plain": [
       "'e'"
      ]
     },
     "execution_count": 10,
     "metadata": {},
     "output_type": "execute_result"
    }
   ],
   "source": [
    "S = [['him', 'sell'], [90, 28, 43]]\n",
    "\n",
    "S[0][1][1]"
   ]
  },
  {
   "cell_type": "markdown",
   "id": "e0d33b05",
   "metadata": {},
   "source": [
    "**Answer**: 'e'"
   ]
  },
  {
   "cell_type": "markdown",
   "id": "35b5e0e3",
   "metadata": {},
   "source": [
    "**QUESTION 11**\n",
    "\n",
    "Perform a groupby operation on ‘Element’.  What is the total number of the sum of Processing in 2017?"
   ]
  },
  {
   "cell_type": "code",
   "execution_count": 11,
   "id": "4d18c343",
   "metadata": {},
   "outputs": [
    {
     "data": {
      "text/html": [
       "<div>\n",
       "<style scoped>\n",
       "    .dataframe tbody tr th:only-of-type {\n",
       "        vertical-align: middle;\n",
       "    }\n",
       "\n",
       "    .dataframe tbody tr th {\n",
       "        vertical-align: top;\n",
       "    }\n",
       "\n",
       "    .dataframe thead th {\n",
       "        text-align: right;\n",
       "    }\n",
       "</style>\n",
       "<table border=\"1\" class=\"dataframe\">\n",
       "  <thead>\n",
       "    <tr style=\"text-align: right;\">\n",
       "      <th></th>\n",
       "      <th>Area Code</th>\n",
       "      <th>Area</th>\n",
       "      <th>Item Code</th>\n",
       "      <th>Item</th>\n",
       "      <th>Element Code</th>\n",
       "      <th>Element</th>\n",
       "      <th>Unit</th>\n",
       "      <th>Y2014</th>\n",
       "      <th>Y2015</th>\n",
       "      <th>Y2016</th>\n",
       "      <th>Y2017</th>\n",
       "      <th>Y2018</th>\n",
       "    </tr>\n",
       "  </thead>\n",
       "  <tbody>\n",
       "    <tr>\n",
       "      <th>19</th>\n",
       "      <td>4</td>\n",
       "      <td>Algeria</td>\n",
       "      <td>2905</td>\n",
       "      <td>Cereals - Excluding Beer</td>\n",
       "      <td>5131</td>\n",
       "      <td>Processing</td>\n",
       "      <td>1000 tonnes</td>\n",
       "      <td>35.0</td>\n",
       "      <td>38.0</td>\n",
       "      <td>37.0</td>\n",
       "      <td>33.0</td>\n",
       "      <td>44.0</td>\n",
       "    </tr>\n",
       "    <tr>\n",
       "      <th>35</th>\n",
       "      <td>4</td>\n",
       "      <td>Algeria</td>\n",
       "      <td>2511</td>\n",
       "      <td>Wheat and products</td>\n",
       "      <td>5131</td>\n",
       "      <td>Processing</td>\n",
       "      <td>1000 tonnes</td>\n",
       "      <td>0.0</td>\n",
       "      <td>0.0</td>\n",
       "      <td>0.0</td>\n",
       "      <td>0.0</td>\n",
       "      <td>0.0</td>\n",
       "    </tr>\n",
       "    <tr>\n",
       "      <th>51</th>\n",
       "      <td>4</td>\n",
       "      <td>Algeria</td>\n",
       "      <td>2805</td>\n",
       "      <td>Rice and products</td>\n",
       "      <td>5131</td>\n",
       "      <td>Processing</td>\n",
       "      <td>1000 tonnes</td>\n",
       "      <td>0.0</td>\n",
       "      <td>0.0</td>\n",
       "      <td>0.0</td>\n",
       "      <td>0.0</td>\n",
       "      <td>0.0</td>\n",
       "    </tr>\n",
       "    <tr>\n",
       "      <th>66</th>\n",
       "      <td>4</td>\n",
       "      <td>Algeria</td>\n",
       "      <td>2513</td>\n",
       "      <td>Barley and products</td>\n",
       "      <td>5131</td>\n",
       "      <td>Processing</td>\n",
       "      <td>1000 tonnes</td>\n",
       "      <td>35.0</td>\n",
       "      <td>38.0</td>\n",
       "      <td>37.0</td>\n",
       "      <td>33.0</td>\n",
       "      <td>44.0</td>\n",
       "    </tr>\n",
       "    <tr>\n",
       "      <th>81</th>\n",
       "      <td>4</td>\n",
       "      <td>Algeria</td>\n",
       "      <td>2514</td>\n",
       "      <td>Maize and products</td>\n",
       "      <td>5131</td>\n",
       "      <td>Processing</td>\n",
       "      <td>1000 tonnes</td>\n",
       "      <td>0.0</td>\n",
       "      <td>0.0</td>\n",
       "      <td>0.0</td>\n",
       "      <td>0.0</td>\n",
       "      <td>0.0</td>\n",
       "    </tr>\n",
       "    <tr>\n",
       "      <th>...</th>\n",
       "      <td>...</td>\n",
       "      <td>...</td>\n",
       "      <td>...</td>\n",
       "      <td>...</td>\n",
       "      <td>...</td>\n",
       "      <td>...</td>\n",
       "      <td>...</td>\n",
       "      <td>...</td>\n",
       "      <td>...</td>\n",
       "      <td>...</td>\n",
       "      <td>...</td>\n",
       "      <td>...</td>\n",
       "    </tr>\n",
       "    <tr>\n",
       "      <th>60694</th>\n",
       "      <td>181</td>\n",
       "      <td>Zimbabwe</td>\n",
       "      <td>2946</td>\n",
       "      <td>Animal fats</td>\n",
       "      <td>5131</td>\n",
       "      <td>Processing</td>\n",
       "      <td>1000 tonnes</td>\n",
       "      <td>0.0</td>\n",
       "      <td>0.0</td>\n",
       "      <td>0.0</td>\n",
       "      <td>0.0</td>\n",
       "      <td>0.0</td>\n",
       "    </tr>\n",
       "    <tr>\n",
       "      <th>60717</th>\n",
       "      <td>181</td>\n",
       "      <td>Zimbabwe</td>\n",
       "      <td>2743</td>\n",
       "      <td>Cream</td>\n",
       "      <td>5131</td>\n",
       "      <td>Processing</td>\n",
       "      <td>1000 tonnes</td>\n",
       "      <td>0.0</td>\n",
       "      <td>0.0</td>\n",
       "      <td>0.0</td>\n",
       "      <td>0.0</td>\n",
       "      <td>0.0</td>\n",
       "    </tr>\n",
       "    <tr>\n",
       "      <th>60730</th>\n",
       "      <td>181</td>\n",
       "      <td>Zimbabwe</td>\n",
       "      <td>2737</td>\n",
       "      <td>Fats, Animals, Raw</td>\n",
       "      <td>5131</td>\n",
       "      <td>Processing</td>\n",
       "      <td>1000 tonnes</td>\n",
       "      <td>0.0</td>\n",
       "      <td>0.0</td>\n",
       "      <td>0.0</td>\n",
       "      <td>0.0</td>\n",
       "      <td>0.0</td>\n",
       "    </tr>\n",
       "    <tr>\n",
       "      <th>60789</th>\n",
       "      <td>181</td>\n",
       "      <td>Zimbabwe</td>\n",
       "      <td>2948</td>\n",
       "      <td>Milk - Excluding Butter</td>\n",
       "      <td>5131</td>\n",
       "      <td>Processing</td>\n",
       "      <td>1000 tonnes</td>\n",
       "      <td>59.0</td>\n",
       "      <td>59.0</td>\n",
       "      <td>58.0</td>\n",
       "      <td>56.0</td>\n",
       "      <td>57.0</td>\n",
       "    </tr>\n",
       "    <tr>\n",
       "      <th>60803</th>\n",
       "      <td>181</td>\n",
       "      <td>Zimbabwe</td>\n",
       "      <td>2848</td>\n",
       "      <td>Milk - Excluding Butter</td>\n",
       "      <td>5131</td>\n",
       "      <td>Processing</td>\n",
       "      <td>1000 tonnes</td>\n",
       "      <td>59.0</td>\n",
       "      <td>59.0</td>\n",
       "      <td>58.0</td>\n",
       "      <td>56.0</td>\n",
       "      <td>57.0</td>\n",
       "    </tr>\n",
       "  </tbody>\n",
       "</table>\n",
       "<p>2010 rows × 12 columns</p>\n",
       "</div>"
      ],
      "text/plain": [
       "       Area Code      Area  Item Code                      Item  Element Code  \\\n",
       "19             4   Algeria       2905  Cereals - Excluding Beer          5131   \n",
       "35             4   Algeria       2511        Wheat and products          5131   \n",
       "51             4   Algeria       2805         Rice and products          5131   \n",
       "66             4   Algeria       2513       Barley and products          5131   \n",
       "81             4   Algeria       2514        Maize and products          5131   \n",
       "...          ...       ...        ...                       ...           ...   \n",
       "60694        181  Zimbabwe       2946               Animal fats          5131   \n",
       "60717        181  Zimbabwe       2743                     Cream          5131   \n",
       "60730        181  Zimbabwe       2737        Fats, Animals, Raw          5131   \n",
       "60789        181  Zimbabwe       2948   Milk - Excluding Butter          5131   \n",
       "60803        181  Zimbabwe       2848   Milk - Excluding Butter          5131   \n",
       "\n",
       "          Element         Unit  Y2014  Y2015  Y2016  Y2017  Y2018  \n",
       "19     Processing  1000 tonnes   35.0   38.0   37.0   33.0   44.0  \n",
       "35     Processing  1000 tonnes    0.0    0.0    0.0    0.0    0.0  \n",
       "51     Processing  1000 tonnes    0.0    0.0    0.0    0.0    0.0  \n",
       "66     Processing  1000 tonnes   35.0   38.0   37.0   33.0   44.0  \n",
       "81     Processing  1000 tonnes    0.0    0.0    0.0    0.0    0.0  \n",
       "...           ...          ...    ...    ...    ...    ...    ...  \n",
       "60694  Processing  1000 tonnes    0.0    0.0    0.0    0.0    0.0  \n",
       "60717  Processing  1000 tonnes    0.0    0.0    0.0    0.0    0.0  \n",
       "60730  Processing  1000 tonnes    0.0    0.0    0.0    0.0    0.0  \n",
       "60789  Processing  1000 tonnes   59.0   59.0   58.0   56.0   57.0  \n",
       "60803  Processing  1000 tonnes   59.0   59.0   58.0   56.0   57.0  \n",
       "\n",
       "[2010 rows x 12 columns]"
      ]
     },
     "execution_count": 11,
     "metadata": {},
     "output_type": "execute_result"
    }
   ],
   "source": [
    "mask_df = df['Element'].str.contains('Processing')\n",
    "df[mask_df] \n"
   ]
  },
  {
   "cell_type": "code",
   "execution_count": 12,
   "id": "df340981",
   "metadata": {},
   "outputs": [
    {
     "data": {
      "text/plain": [
       "Area Code       False\n",
       "Area            False\n",
       "Item Code       False\n",
       "Item            False\n",
       "Element Code    False\n",
       "Element          True\n",
       "Unit            False\n",
       "Y2014           False\n",
       "Y2015           False\n",
       "Y2016           False\n",
       "Y2017           False\n",
       "Y2018           False\n",
       "dtype: bool"
      ]
     },
     "execution_count": 12,
     "metadata": {},
     "output_type": "execute_result"
    }
   ],
   "source": [
    "df.isin(['Processing']).any()"
   ]
  },
  {
   "cell_type": "code",
   "execution_count": 13,
   "id": "61f7858f",
   "metadata": {},
   "outputs": [
    {
     "data": {
      "text/plain": [
       "Element\n",
       "Domestic supply quantity                  2088198.10\n",
       "Export Quantity                            182338.80\n",
       "Fat supply quantity (g/capita/day)          10253.84\n",
       "Feed                                       223705.68\n",
       "Food                                      1258888.28\n",
       "Food supply (kcal/capita/day)              454681.00\n",
       "Food supply quantity (kg/capita/yr)         48690.04\n",
       "Import Quantity                            294559.09\n",
       "Losses                                     160614.00\n",
       "Other uses (non-food)                       91645.97\n",
       "Processing                                 292836.00\n",
       "Production                                2030056.89\n",
       "Protein supply quantity (g/capita/day)      11842.45\n",
       "Residuals                                   35500.00\n",
       "Seed                                        24870.14\n",
       "Stock Variation                             54316.91\n",
       "Total Population - Both sexes             1112641.00\n",
       "Tourist consumption                            91.00\n",
       "Name: Y2017, dtype: float64"
      ]
     },
     "execution_count": 13,
     "metadata": {},
     "output_type": "execute_result"
    }
   ],
   "source": [
    "Q11=df.groupby('Element')['Y2017'].sum()\n",
    "Q11"
   ]
  },
  {
   "cell_type": "markdown",
   "id": "034d47d0",
   "metadata": {},
   "source": [
    "**Answer**: The total number of the sum of Processing in 2017 is **292836.00**"
   ]
  },
  {
   "cell_type": "markdown",
   "id": "f3a882ee",
   "metadata": {},
   "source": [
    "**Question 13**\n",
    "\n",
    "Perform a groupby operation on ‘Element’.  What year has the highest sum of Stock Variation?\n"
   ]
  },
  {
   "cell_type": "code",
   "execution_count": 14,
   "id": "0a4d1807",
   "metadata": {},
   "outputs": [
    {
     "data": {
      "text/plain": [
       "Area Code       False\n",
       "Area            False\n",
       "Item Code       False\n",
       "Item            False\n",
       "Element Code    False\n",
       "Element          True\n",
       "Unit            False\n",
       "Y2014           False\n",
       "Y2015           False\n",
       "Y2016           False\n",
       "Y2017           False\n",
       "Y2018           False\n",
       "dtype: bool"
      ]
     },
     "execution_count": 14,
     "metadata": {},
     "output_type": "execute_result"
    }
   ],
   "source": [
    "df.isin(['Import Quantity']).any()"
   ]
  },
  {
   "cell_type": "code",
   "execution_count": 15,
   "id": "ed56e48b",
   "metadata": {},
   "outputs": [
    {
     "data": {
      "text/html": [
       "<div>\n",
       "<style scoped>\n",
       "    .dataframe tbody tr th:only-of-type {\n",
       "        vertical-align: middle;\n",
       "    }\n",
       "\n",
       "    .dataframe tbody tr th {\n",
       "        vertical-align: top;\n",
       "    }\n",
       "\n",
       "    .dataframe thead th {\n",
       "        text-align: right;\n",
       "    }\n",
       "</style>\n",
       "<table border=\"1\" class=\"dataframe\">\n",
       "  <thead>\n",
       "    <tr style=\"text-align: right;\">\n",
       "      <th></th>\n",
       "      <th>Y2014</th>\n",
       "      <th>Y2015</th>\n",
       "      <th>Y2016</th>\n",
       "      <th>Y2017</th>\n",
       "      <th>Y2018</th>\n",
       "    </tr>\n",
       "    <tr>\n",
       "      <th>Element</th>\n",
       "      <th></th>\n",
       "      <th></th>\n",
       "      <th></th>\n",
       "      <th></th>\n",
       "      <th></th>\n",
       "    </tr>\n",
       "  </thead>\n",
       "  <tbody>\n",
       "    <tr>\n",
       "      <th>Domestic supply quantity</th>\n",
       "      <td>1996716.35</td>\n",
       "      <td>2021493.55</td>\n",
       "      <td>2044842.70</td>\n",
       "      <td>2088198.10</td>\n",
       "      <td>2161192.10</td>\n",
       "    </tr>\n",
       "    <tr>\n",
       "      <th>Export Quantity</th>\n",
       "      <td>150020.64</td>\n",
       "      <td>157614.47</td>\n",
       "      <td>151920.46</td>\n",
       "      <td>182338.80</td>\n",
       "      <td>181594.80</td>\n",
       "    </tr>\n",
       "    <tr>\n",
       "      <th>Fat supply quantity (g/capita/day)</th>\n",
       "      <td>10225.56</td>\n",
       "      <td>10235.74</td>\n",
       "      <td>10102.77</td>\n",
       "      <td>10253.84</td>\n",
       "      <td>10258.69</td>\n",
       "    </tr>\n",
       "    <tr>\n",
       "      <th>Feed</th>\n",
       "      <td>216927.89</td>\n",
       "      <td>225050.22</td>\n",
       "      <td>228958.65</td>\n",
       "      <td>223705.68</td>\n",
       "      <td>233489.68</td>\n",
       "    </tr>\n",
       "    <tr>\n",
       "      <th>Food</th>\n",
       "      <td>1212332.49</td>\n",
       "      <td>1232361.10</td>\n",
       "      <td>1247022.17</td>\n",
       "      <td>1258888.28</td>\n",
       "      <td>1303841.28</td>\n",
       "    </tr>\n",
       "    <tr>\n",
       "      <th>Food supply (kcal/capita/day)</th>\n",
       "      <td>454257.00</td>\n",
       "      <td>453383.00</td>\n",
       "      <td>451810.00</td>\n",
       "      <td>454681.00</td>\n",
       "      <td>455261.00</td>\n",
       "    </tr>\n",
       "    <tr>\n",
       "      <th>Food supply quantity (kg/capita/yr)</th>\n",
       "      <td>49650.63</td>\n",
       "      <td>49345.13</td>\n",
       "      <td>48985.28</td>\n",
       "      <td>48690.04</td>\n",
       "      <td>49056.85</td>\n",
       "    </tr>\n",
       "    <tr>\n",
       "      <th>Import Quantity</th>\n",
       "      <td>274144.48</td>\n",
       "      <td>267018.46</td>\n",
       "      <td>286582.78</td>\n",
       "      <td>294559.09</td>\n",
       "      <td>287997.09</td>\n",
       "    </tr>\n",
       "    <tr>\n",
       "      <th>Losses</th>\n",
       "      <td>153223.00</td>\n",
       "      <td>155439.00</td>\n",
       "      <td>157787.00</td>\n",
       "      <td>160614.00</td>\n",
       "      <td>163902.00</td>\n",
       "    </tr>\n",
       "    <tr>\n",
       "      <th>Other uses (non-food)</th>\n",
       "      <td>78718.13</td>\n",
       "      <td>66254.41</td>\n",
       "      <td>69563.68</td>\n",
       "      <td>91645.97</td>\n",
       "      <td>91300.97</td>\n",
       "    </tr>\n",
       "    <tr>\n",
       "      <th>Processing</th>\n",
       "      <td>282923.00</td>\n",
       "      <td>287929.00</td>\n",
       "      <td>280631.00</td>\n",
       "      <td>292836.00</td>\n",
       "      <td>308429.00</td>\n",
       "    </tr>\n",
       "    <tr>\n",
       "      <th>Production</th>\n",
       "      <td>1931287.75</td>\n",
       "      <td>1947019.39</td>\n",
       "      <td>1943537.15</td>\n",
       "      <td>2030056.89</td>\n",
       "      <td>2075072.89</td>\n",
       "    </tr>\n",
       "    <tr>\n",
       "      <th>Protein supply quantity (g/capita/day)</th>\n",
       "      <td>11836.46</td>\n",
       "      <td>11833.95</td>\n",
       "      <td>11779.69</td>\n",
       "      <td>11842.45</td>\n",
       "      <td>11833.56</td>\n",
       "    </tr>\n",
       "    <tr>\n",
       "      <th>Residuals</th>\n",
       "      <td>30149.00</td>\n",
       "      <td>30045.00</td>\n",
       "      <td>37224.00</td>\n",
       "      <td>35500.00</td>\n",
       "      <td>34864.00</td>\n",
       "    </tr>\n",
       "    <tr>\n",
       "      <th>Seed</th>\n",
       "      <td>21922.92</td>\n",
       "      <td>23976.82</td>\n",
       "      <td>23389.20</td>\n",
       "      <td>24870.14</td>\n",
       "      <td>25263.14</td>\n",
       "    </tr>\n",
       "    <tr>\n",
       "      <th>Stock Variation</th>\n",
       "      <td>58749.83</td>\n",
       "      <td>34910.99</td>\n",
       "      <td>33140.12</td>\n",
       "      <td>54316.91</td>\n",
       "      <td>20577.91</td>\n",
       "    </tr>\n",
       "    <tr>\n",
       "      <th>Total Population - Both sexes</th>\n",
       "      <td>1031585.00</td>\n",
       "      <td>1058081.00</td>\n",
       "      <td>1085107.00</td>\n",
       "      <td>1112641.00</td>\n",
       "      <td>1140605.00</td>\n",
       "    </tr>\n",
       "    <tr>\n",
       "      <th>Tourist consumption</th>\n",
       "      <td>416.00</td>\n",
       "      <td>349.00</td>\n",
       "      <td>89.00</td>\n",
       "      <td>91.00</td>\n",
       "      <td>90.00</td>\n",
       "    </tr>\n",
       "  </tbody>\n",
       "</table>\n",
       "</div>"
      ],
      "text/plain": [
       "                                             Y2014       Y2015       Y2016  \\\n",
       "Element                                                                      \n",
       "Domestic supply quantity                1996716.35  2021493.55  2044842.70   \n",
       "Export Quantity                          150020.64   157614.47   151920.46   \n",
       "Fat supply quantity (g/capita/day)        10225.56    10235.74    10102.77   \n",
       "Feed                                     216927.89   225050.22   228958.65   \n",
       "Food                                    1212332.49  1232361.10  1247022.17   \n",
       "Food supply (kcal/capita/day)            454257.00   453383.00   451810.00   \n",
       "Food supply quantity (kg/capita/yr)       49650.63    49345.13    48985.28   \n",
       "Import Quantity                          274144.48   267018.46   286582.78   \n",
       "Losses                                   153223.00   155439.00   157787.00   \n",
       "Other uses (non-food)                     78718.13    66254.41    69563.68   \n",
       "Processing                               282923.00   287929.00   280631.00   \n",
       "Production                              1931287.75  1947019.39  1943537.15   \n",
       "Protein supply quantity (g/capita/day)    11836.46    11833.95    11779.69   \n",
       "Residuals                                 30149.00    30045.00    37224.00   \n",
       "Seed                                      21922.92    23976.82    23389.20   \n",
       "Stock Variation                           58749.83    34910.99    33140.12   \n",
       "Total Population - Both sexes           1031585.00  1058081.00  1085107.00   \n",
       "Tourist consumption                         416.00      349.00       89.00   \n",
       "\n",
       "                                             Y2017       Y2018  \n",
       "Element                                                         \n",
       "Domestic supply quantity                2088198.10  2161192.10  \n",
       "Export Quantity                          182338.80   181594.80  \n",
       "Fat supply quantity (g/capita/day)        10253.84    10258.69  \n",
       "Feed                                     223705.68   233489.68  \n",
       "Food                                    1258888.28  1303841.28  \n",
       "Food supply (kcal/capita/day)            454681.00   455261.00  \n",
       "Food supply quantity (kg/capita/yr)       48690.04    49056.85  \n",
       "Import Quantity                          294559.09   287997.09  \n",
       "Losses                                   160614.00   163902.00  \n",
       "Other uses (non-food)                     91645.97    91300.97  \n",
       "Processing                               292836.00   308429.00  \n",
       "Production                              2030056.89  2075072.89  \n",
       "Protein supply quantity (g/capita/day)    11842.45    11833.56  \n",
       "Residuals                                 35500.00    34864.00  \n",
       "Seed                                      24870.14    25263.14  \n",
       "Stock Variation                           54316.91    20577.91  \n",
       "Total Population - Both sexes           1112641.00  1140605.00  \n",
       "Tourist consumption                          91.00       90.00  "
      ]
     },
     "execution_count": 15,
     "metadata": {},
     "output_type": "execute_result"
    }
   ],
   "source": [
    "Q13 = df.groupby('Element')[['Y2014','Y2015','Y2016','Y2017','Y2018']].sum()\n",
    "Q13\n"
   ]
  },
  {
   "cell_type": "code",
   "execution_count": 16,
   "id": "c567ef01",
   "metadata": {},
   "outputs": [
    {
     "data": {
      "text/plain": [
       "Y2014    58749.83\n",
       "Y2015    34910.99\n",
       "Y2016    33140.12\n",
       "Y2017    54316.91\n",
       "Y2018    20577.91\n",
       "Name: Stock Variation, dtype: float64"
      ]
     },
     "execution_count": 16,
     "metadata": {},
     "output_type": "execute_result"
    }
   ],
   "source": [
    "Q13.loc['Stock Variation']\n"
   ]
  },
  {
   "cell_type": "code",
   "execution_count": 17,
   "id": "75de2b33",
   "metadata": {},
   "outputs": [
    {
     "data": {
      "text/plain": [
       "58749.83"
      ]
     },
     "execution_count": 17,
     "metadata": {},
     "output_type": "execute_result"
    }
   ],
   "source": [
    "Q13.loc['Stock Variation'].at['Y2014'].round(2)"
   ]
  },
  {
   "cell_type": "markdown",
   "id": "29f96299",
   "metadata": {},
   "source": [
    "**Answer:** The highest sum of Stock Variation is **58749.83**"
   ]
  },
  {
   "cell_type": "markdown",
   "id": "b2310377",
   "metadata": {},
   "source": [
    "**Question 15**\n",
    "\n",
    "Select columns ‘Y2017’ and ‘Area’, Perform a groupby operation on ‘Area’.  Which of these Areas had the 7th lowest sum in 2017?\n"
   ]
  },
  {
   "cell_type": "code",
   "execution_count": 18,
   "id": "92685b43",
   "metadata": {},
   "outputs": [
    {
     "data": {
      "text/plain": [
       "Area\n",
       "Sudan (former)                       0.00\n",
       "Ethiopia PDR                         0.00\n",
       "Comoros                             59.84\n",
       "Seychelles                         442.34\n",
       "Sao Tome and Principe            12662.63\n",
       "Cabo Verde                       14650.74\n",
       "Guinea-Bissau                    19102.77\n",
       "Lesotho                          21267.96\n",
       "Botswana                         22101.30\n",
       "Djibouti                         22729.91\n",
       "Gambia                           23154.18\n",
       "Gabon                            27979.64\n",
       "Liberia                          29342.20\n",
       "Namibia                          29874.89\n",
       "Central African Republic         29937.00\n",
       "Congo                            41181.68\n",
       "Togo                             49841.88\n",
       "Mauritius                        51114.83\n",
       "Eswatini                         54343.33\n",
       "Sierra Leone                     55311.33\n",
       "Chad                             71594.68\n",
       "Rwanda                           73663.69\n",
       "Zimbabwe                         75919.34\n",
       "Senegal                          95681.15\n",
       "Guinea                           98138.87\n",
       "Burkina Faso                    101855.07\n",
       "Zambia                          103223.77\n",
       "Tunisia                         124167.20\n",
       "Benin                           124771.22\n",
       "Niger                           126707.58\n",
       "Madagascar                      131197.73\n",
       "Mali                            149928.33\n",
       "Mauritania                      156665.46\n",
       "Mozambique                      161407.98\n",
       "Malawi                          181098.71\n",
       "Uganda                          213950.38\n",
       "Cï¿½te d'Ivoire                 224599.01\n",
       "Angola                          229159.57\n",
       "Cameroon                        232030.43\n",
       "Sudan                           239931.92\n",
       "Kenya                           264660.66\n",
       "United Republic of Tanzania     322616.85\n",
       "Algeria                         325644.27\n",
       "Ghana                           337599.06\n",
       "Morocco                         388495.36\n",
       "Ethiopia                        448683.76\n",
       "South Africa                    517590.54\n",
       "Egypt                           866379.92\n",
       "Nigeria                        1483268.23\n",
       "Name: Y2017, dtype: float64"
      ]
     },
     "execution_count": 18,
     "metadata": {},
     "output_type": "execute_result"
    }
   ],
   "source": [
    "df.groupby(\"Area\")[\"Y2017\"].sum().sort_values(ascending=True)"
   ]
  },
  {
   "cell_type": "markdown",
   "id": "a0c9dd61",
   "metadata": {},
   "source": [
    "**Answer**: The area with the 7th lowest sum in 2017 is **Guinea-Bissau**"
   ]
  },
  {
   "cell_type": "markdown",
   "id": "718754f6",
   "metadata": {},
   "source": [
    "**Question 18**\n",
    "\n",
    "What is the total number and percentage of missing data in 2014 to 3 decimal places?\n"
   ]
  },
  {
   "cell_type": "code",
   "execution_count": 19,
   "id": "393124cc",
   "metadata": {},
   "outputs": [
    {
     "data": {
      "text/plain": [
       "1589"
      ]
     },
     "execution_count": 19,
     "metadata": {},
     "output_type": "execute_result"
    }
   ],
   "source": [
    "df['Y2014'].isnull().sum()"
   ]
  },
  {
   "cell_type": "code",
   "execution_count": 20,
   "id": "10a739a2",
   "metadata": {},
   "outputs": [
    {
     "data": {
      "text/plain": [
       "59354"
      ]
     },
     "execution_count": 20,
     "metadata": {},
     "output_type": "execute_result"
    }
   ],
   "source": [
    "df['Y2014'].count()"
   ]
  },
  {
   "cell_type": "code",
   "execution_count": 21,
   "id": "a2f5075f",
   "metadata": {},
   "outputs": [],
   "source": [
    "Percent_Missing_Data = (df['Y2014'].isnull().sum())*100/(len(df['Y2014']))\n",
    "Answer = round(Percent_Missing_Data,3)"
   ]
  },
  {
   "cell_type": "code",
   "execution_count": 22,
   "id": "1b1421b3",
   "metadata": {},
   "outputs": [
    {
     "name": "stdout",
     "output_type": "stream",
     "text": [
      "2.607%\n"
     ]
    }
   ],
   "source": [
    "print(\"{}%\".format(Answer))"
   ]
  },
  {
   "cell_type": "markdown",
   "id": "2e6f8b00",
   "metadata": {},
   "source": [
    "**Answer:** \n",
    "    The total number of missing data in 2014 is **1589**;\n",
    "    The percentage of missing data in 2014 to 3 decimal places is **2.607%**"
   ]
  },
  {
   "cell_type": "markdown",
   "id": "8487f7ac",
   "metadata": {},
   "source": [
    "**Question 19**\n",
    "\n",
    "What is the total Protein supply quantity in Madagascar in 2015?\n"
   ]
  },
  {
   "cell_type": "code",
   "execution_count": 23,
   "id": "6d16264e",
   "metadata": {},
   "outputs": [
    {
     "data": {
      "text/html": [
       "<div>\n",
       "<style scoped>\n",
       "    .dataframe tbody tr th:only-of-type {\n",
       "        vertical-align: middle;\n",
       "    }\n",
       "\n",
       "    .dataframe tbody tr th {\n",
       "        vertical-align: top;\n",
       "    }\n",
       "\n",
       "    .dataframe thead th {\n",
       "        text-align: right;\n",
       "    }\n",
       "</style>\n",
       "<table border=\"1\" class=\"dataframe\">\n",
       "  <thead>\n",
       "    <tr style=\"text-align: right;\">\n",
       "      <th></th>\n",
       "      <th></th>\n",
       "      <th>Y2014</th>\n",
       "      <th>Y2015</th>\n",
       "      <th>Y2016</th>\n",
       "      <th>Y2017</th>\n",
       "      <th>Y2018</th>\n",
       "    </tr>\n",
       "    <tr>\n",
       "      <th>Area</th>\n",
       "      <th>Element</th>\n",
       "      <th></th>\n",
       "      <th></th>\n",
       "      <th></th>\n",
       "      <th></th>\n",
       "      <th></th>\n",
       "    </tr>\n",
       "  </thead>\n",
       "  <tbody>\n",
       "    <tr>\n",
       "      <th rowspan=\"5\" valign=\"top\">Algeria</th>\n",
       "      <th>Domestic supply quantity</th>\n",
       "      <td>83755.94</td>\n",
       "      <td>85972.86</td>\n",
       "      <td>87157.61</td>\n",
       "      <td>86810.42</td>\n",
       "      <td>90023.42</td>\n",
       "    </tr>\n",
       "    <tr>\n",
       "      <th>Export Quantity</th>\n",
       "      <td>1328.64</td>\n",
       "      <td>1104.62</td>\n",
       "      <td>1340.22</td>\n",
       "      <td>1494.54</td>\n",
       "      <td>811.54</td>\n",
       "    </tr>\n",
       "    <tr>\n",
       "      <th>Fat supply quantity (g/capita/day)</th>\n",
       "      <td>320.19</td>\n",
       "      <td>317.40</td>\n",
       "      <td>309.54</td>\n",
       "      <td>320.74</td>\n",
       "      <td>309.09</td>\n",
       "    </tr>\n",
       "    <tr>\n",
       "      <th>Feed</th>\n",
       "      <td>9656.04</td>\n",
       "      <td>10308.00</td>\n",
       "      <td>9903.00</td>\n",
       "      <td>9571.00</td>\n",
       "      <td>10668.00</td>\n",
       "    </tr>\n",
       "    <tr>\n",
       "      <th>Food</th>\n",
       "      <td>60582.69</td>\n",
       "      <td>61693.49</td>\n",
       "      <td>63081.43</td>\n",
       "      <td>62785.33</td>\n",
       "      <td>63736.33</td>\n",
       "    </tr>\n",
       "    <tr>\n",
       "      <th>...</th>\n",
       "      <th>...</th>\n",
       "      <td>...</td>\n",
       "      <td>...</td>\n",
       "      <td>...</td>\n",
       "      <td>...</td>\n",
       "      <td>...</td>\n",
       "    </tr>\n",
       "    <tr>\n",
       "      <th rowspan=\"5\" valign=\"top\">Zimbabwe</th>\n",
       "      <th>Protein supply quantity (g/capita/day)</th>\n",
       "      <td>184.23</td>\n",
       "      <td>175.31</td>\n",
       "      <td>172.72</td>\n",
       "      <td>175.31</td>\n",
       "      <td>176.57</td>\n",
       "    </tr>\n",
       "    <tr>\n",
       "      <th>Residuals</th>\n",
       "      <td>-252.00</td>\n",
       "      <td>-780.00</td>\n",
       "      <td>-882.00</td>\n",
       "      <td>-1083.00</td>\n",
       "      <td>-546.00</td>\n",
       "    </tr>\n",
       "    <tr>\n",
       "      <th>Seed</th>\n",
       "      <td>144.00</td>\n",
       "      <td>128.00</td>\n",
       "      <td>127.00</td>\n",
       "      <td>162.00</td>\n",
       "      <td>140.00</td>\n",
       "    </tr>\n",
       "    <tr>\n",
       "      <th>Stock Variation</th>\n",
       "      <td>-644.00</td>\n",
       "      <td>-343.00</td>\n",
       "      <td>221.00</td>\n",
       "      <td>458.00</td>\n",
       "      <td>-447.00</td>\n",
       "    </tr>\n",
       "    <tr>\n",
       "      <th>Total Population - Both sexes</th>\n",
       "      <td>13587.00</td>\n",
       "      <td>13815.00</td>\n",
       "      <td>14030.00</td>\n",
       "      <td>14237.00</td>\n",
       "      <td>14439.00</td>\n",
       "    </tr>\n",
       "  </tbody>\n",
       "</table>\n",
       "<p>803 rows × 5 columns</p>\n",
       "</div>"
      ],
      "text/plain": [
       "                                                    Y2014     Y2015     Y2016  \\\n",
       "Area     Element                                                                \n",
       "Algeria  Domestic supply quantity                83755.94  85972.86  87157.61   \n",
       "         Export Quantity                          1328.64   1104.62   1340.22   \n",
       "         Fat supply quantity (g/capita/day)        320.19    317.40    309.54   \n",
       "         Feed                                     9656.04  10308.00   9903.00   \n",
       "         Food                                    60582.69  61693.49  63081.43   \n",
       "...                                                   ...       ...       ...   \n",
       "Zimbabwe Protein supply quantity (g/capita/day)    184.23    175.31    172.72   \n",
       "         Residuals                                -252.00   -780.00   -882.00   \n",
       "         Seed                                      144.00    128.00    127.00   \n",
       "         Stock Variation                          -644.00   -343.00    221.00   \n",
       "         Total Population - Both sexes           13587.00  13815.00  14030.00   \n",
       "\n",
       "                                                    Y2017     Y2018  \n",
       "Area     Element                                                     \n",
       "Algeria  Domestic supply quantity                86810.42  90023.42  \n",
       "         Export Quantity                          1494.54    811.54  \n",
       "         Fat supply quantity (g/capita/day)        320.74    309.09  \n",
       "         Feed                                     9571.00  10668.00  \n",
       "         Food                                    62785.33  63736.33  \n",
       "...                                                   ...       ...  \n",
       "Zimbabwe Protein supply quantity (g/capita/day)    175.31    176.57  \n",
       "         Residuals                               -1083.00   -546.00  \n",
       "         Seed                                      162.00    140.00  \n",
       "         Stock Variation                           458.00   -447.00  \n",
       "         Total Population - Both sexes           14237.00  14439.00  \n",
       "\n",
       "[803 rows x 5 columns]"
      ]
     },
     "execution_count": 23,
     "metadata": {},
     "output_type": "execute_result"
    }
   ],
   "source": [
    "Q19 = df.pivot_table(index=['Area','Element'],values =['Y2014', 'Y2015', 'Y2016', 'Y2017', 'Y2018'],aggfunc='sum')\n",
    "Q19"
   ]
  },
  {
   "cell_type": "code",
   "execution_count": 24,
   "id": "e6efe0fb",
   "metadata": {},
   "outputs": [
    {
     "data": {
      "text/plain": [
       "Element\n",
       "Domestic supply quantity                  31214.98\n",
       "Export Quantity                             494.75\n",
       "Fat supply quantity (g/capita/day)           91.85\n",
       "Feed                                       2070.22\n",
       "Food                                      21120.65\n",
       "Food supply (kcal/capita/day)              7685.00\n",
       "Food supply quantity (kg/capita/yr)         871.59\n",
       "Import Quantity                            1721.80\n",
       "Losses                                     2176.00\n",
       "Other uses (non-food)                      3957.12\n",
       "Processing                                 1803.00\n",
       "Production                                29482.89\n",
       "Protein supply quantity (g/capita/day)      173.05\n",
       "Residuals                                  -616.00\n",
       "Seed                                        699.00\n",
       "Stock Variation                            -505.00\n",
       "Total Population - Both sexes             24234.00\n",
       "Name: Y2015, dtype: float64"
      ]
     },
     "execution_count": 24,
     "metadata": {},
     "output_type": "execute_result"
    }
   ],
   "source": [
    "Q19.loc['Madagascar','Y2015']"
   ]
  },
  {
   "cell_type": "markdown",
   "id": "bb391bce",
   "metadata": {},
   "source": [
    "**Answer:** Protein supply quantity in Madagascar in 2015 is **173.05**g/capita/day"
   ]
  }
 ],
 "metadata": {
  "kernelspec": {
   "display_name": "Python 3 (ipykernel)",
   "language": "python",
   "name": "python3"
  },
  "language_info": {
   "codemirror_mode": {
    "name": "ipython",
    "version": 3
   },
   "file_extension": ".py",
   "mimetype": "text/x-python",
   "name": "python",
   "nbconvert_exporter": "python",
   "pygments_lexer": "ipython3",
   "version": "3.9.12"
  },
  "toc": {
   "base_numbering": 1,
   "nav_menu": {},
   "number_sections": true,
   "sideBar": true,
   "skip_h1_title": false,
   "title_cell": "Table of Contents",
   "title_sidebar": "Contents",
   "toc_cell": false,
   "toc_position": {},
   "toc_section_display": true,
   "toc_window_display": false
  }
 },
 "nbformat": 4,
 "nbformat_minor": 5
}
